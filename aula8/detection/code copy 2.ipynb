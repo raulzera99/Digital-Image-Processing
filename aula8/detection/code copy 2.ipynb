{
 "cells": [
  {
   "cell_type": "code",
   "execution_count": 1,
   "metadata": {},
   "outputs": [
    {
     "name": "stdout",
     "output_type": "stream",
     "text": [
      "Error reading video file\n",
      "The video was successfully saved\n"
     ]
    }
   ],
   "source": [
    "# Python program to save a\n",
    "# video using OpenCV\n",
    "import cv2\n",
    "\n",
    "# Create an object to read\n",
    "# from camera\n",
    "video = cv2.VideoCapture('surveillance.avi')\n",
    "\n",
    "# We need to check if camera\n",
    "# is opened previously or not\n",
    "if (video.isOpened() == False):\n",
    "\tprint(\"Error reading video file\")\n",
    "\n",
    "# We need to set resolutions.\n",
    "# so, convert them from float to integer.\n",
    "frame_width = int(video.get(3))\n",
    "frame_height = int(video.get(4))\n",
    "frame_rate = 30\n",
    "\n",
    "size = (frame_width, frame_height)\n",
    "\n",
    "# Below VideoWriter object will create\n",
    "# a frame of above defined The output\n",
    "# is stored in 'filename.avi' file.\n",
    "fourcc = cv2.VideoWriter_fourcc(*'MJPG')\n",
    "result = cv2.VideoWriter('output.avi', fourcc, frame_rate, size, 0)\n",
    "\t\n",
    "while(True):\n",
    "\tret, frame = video.read()\n",
    "\n",
    "\tif ret == True:\n",
    "\t\tgray = cv2.cvtColor(frame, cv2.COLOR_BGR2GRAY)\n",
    "\t\t\n",
    "        # Write the frame into the\n",
    "\t\t# file 'filename.avi'\n",
    "\t\tresult.write(gray)\n",
    "\n",
    "\t\t# Display the frame\n",
    "\t\t# saved in the file\n",
    "\t\tcv2.imshow('Frame', gray)\n",
    "\n",
    "\t\t# Press S on keyboard\n",
    "\t\t# to stop the process\n",
    "\t\tif cv2.waitKey(1) & 0xFF == ord('s'):\n",
    "\t\t\tbreak\n",
    "\n",
    "\t# Break the loop\n",
    "\telse:\n",
    "\t\tbreak\n",
    "\n",
    "# When everything done, release\n",
    "# the video capture and video\n",
    "# write objects\n",
    "video.release()\n",
    "result.release()\n",
    "\t\n",
    "# Closes all the frames\n",
    "cv2.destroyAllWindows()\n",
    "\n",
    "print(\"The video was successfully saved\")\n"
   ]
  }
 ],
 "metadata": {
  "kernelspec": {
   "display_name": "base",
   "language": "python",
   "name": "python3"
  },
  "language_info": {
   "codemirror_mode": {
    "name": "ipython",
    "version": 3
   },
   "file_extension": ".py",
   "mimetype": "text/x-python",
   "name": "python",
   "nbconvert_exporter": "python",
   "pygments_lexer": "ipython3",
   "version": "3.9.7"
  },
  "orig_nbformat": 4
 },
 "nbformat": 4,
 "nbformat_minor": 2
}
