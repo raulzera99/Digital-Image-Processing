{
  "cells": [
    {
      "cell_type": "markdown",
      "metadata": {
        "id": "AzWZ8OE9vmu7"
      },
      "source": [
        "# Background Subtraction for Object Detection\n",
        "\n",
        "\n",
        "Este código implementa um sistema de subtração de fundo para a detecção de objetos em um vídeo. Ele começa lendo um vídeo de entrada e obtendo informações sobre seus quadros, como largura, altura e taxa de quadros. Em seguida, configura um gravador de vídeo para salvar o resultado da subtração de fundo.\n",
        "\n",
        "\n",
        "O algoritmo utiliza um modelo de fundo que é continuamente atualizado com base nos quadros do vídeo, usando uma taxa de aprendizado (parâmetro \"alpha\"). A diferença entre o quadro atual e o modelo de fundo é calculada e um limiar é aplicado para criar uma imagem binária que destaca os objetos em movimento. O código exibe as imagens originais, o modelo de fundo, a imagem de diferença e a imagem binária em janelas separadas enquanto grava o resultado em um arquivo de vídeo. O processo continua até o final do vídeo ou até que o usuário pressione a tecla Esc para sair.\n",
        "\n",
        "\n",
        "Esse sistema é útil para detecção de movimento em cenários de vigilância e rastreamento de objetos em vídeos."
      ]
    },
    {
      "cell_type": "code",
      "execution_count": null,
      "metadata": {
        "id": "ySWPYQOlvmu9"
      },
      "outputs": [],
      "source": [
        "import cv2\n",
        "import numpy as np\n",
        "\n",
        "# Lê o vídeo\n",
        "video_path = 'surveillance.avi'\n",
        "cap = cv2.VideoCapture(video_path)\n",
        "\n",
        "# Obtém informações do vídeo\n",
        "frame_width = int(cap.get(3))\n",
        "frame_height = int(cap.get(4))\n",
        "frame_rate = 30\n",
        "\n",
        "# Configura o gravador de vídeo\n",
        "fourcc = cv2.VideoWriter_fourcc(*'MJPG')\n",
        "out = cv2.VideoWriter('Background_Subtraction.avi', fourcc, frame_rate, (frame_width, frame_height), 0)\n",
        "\n",
        "# Inicializa parâmetros\n",
        "alpha = 0.95\n",
        "theta = 0.1\n",
        "\n",
        "# Inicializa o fundo com o primeiro quadro\n",
        "ret, background = cap.read()\n",
        "if not ret:\n",
        "    raise ValueError(\"Erro ao ler o primeiro quadro do vídeo.\")\n",
        "\n",
        "background = cv2.cvtColor(background, cv2.COLOR_BGR2GRAY).astype(np.float32)\n",
        "\n",
        "while True:\n",
        "    ret, frame = cap.read()\n",
        "    if not ret:\n",
        "        break\n",
        "\n",
        "    # Converte o quadro atual para escala de cinza\n",
        "    gray_frame = cv2.cvtColor(frame, cv2.COLOR_BGR2GRAY).astype(np.float32)\n",
        "\n",
        "    # Atualiza o modelo de fundo\n",
        "    background = alpha * background + (1 - alpha) * gray_frame\n",
        "\n",
        "    # Calcula a diferença entre o quadro atual e o fundo\n",
        "    diff_img = np.abs(gray_frame - background)\n",
        "\n",
        "    # Aplica um limiar para criar uma imagem binária\n",
        "    thresh_img = (diff_img > theta).astype(np.uint8) * 255\n",
        "\n",
        "    # Mostra os quadros em janelas separadas\n",
        "    cv2.imshow('New frame', gray_frame.astype(np.uint8))\n",
        "    cv2.imshow('Background frame', background.astype(np.uint8))\n",
        "    cv2.imshow('Difference image', diff_img.astype(np.uint8))\n",
        "    cv2.imshow('Thresholded difference image', thresh_img)\n",
        "\n",
        "    # Grava o quadro atual no arquivo de saída\n",
        "    out.write(diff_img.astype(np.uint8))\n",
        "\n",
        "    if cv2.waitKey(30) & 0xFF == 27:  # Pressione Esc para sair\n",
        "        break\n",
        "\n",
        "# Libera os recursos\n",
        "cap.release()\n",
        "out.release()\n",
        "cv2.destroyAllWindows()\n"
      ]
    },
    {
      "cell_type": "code",
      "source": [
        "%cd /content/drive/MyDrive/Colab Notebooks/aula7.1\n",
        "# ! sudo apt update\n",
        "# ! sudo apt-get install texlive-full\n",
        "! jupyter nbconvert --to pdf DefectDetection.ipynb"
      ],
      "metadata": {
        "colab": {
          "base_uri": "https://localhost:8080/"
        },
        "id": "Zn2jAwZaXsGk",
        "outputId": "dd0544ee-5f2d-4310-ba39-d1c39e622969"
      },
      "execution_count": 15,
      "outputs": [
        {
          "output_type": "stream",
          "name": "stdout",
          "text": [
            "/content/drive/MyDrive/Colab Notebooks/aula7.1\n",
            "[NbConvertApp] Converting notebook DefectDetection.ipynb to pdf\n",
            "[NbConvertApp] Support files will be in DefectDetection_files/\n",
            "[NbConvertApp] Making directory ./DefectDetection_files\n",
            "[NbConvertApp] Making directory ./DefectDetection_files\n",
            "[NbConvertApp] Making directory ./DefectDetection_files\n",
            "[NbConvertApp] Making directory ./DefectDetection_files\n",
            "[NbConvertApp] Making directory ./DefectDetection_files\n",
            "[NbConvertApp] Writing 28477 bytes to notebook.tex\n",
            "[NbConvertApp] Building PDF\n",
            "[NbConvertApp] Running xelatex 3 times: ['xelatex', 'notebook.tex', '-quiet']\n",
            "[NbConvertApp] Running bibtex 1 time: ['bibtex', 'notebook']\n",
            "[NbConvertApp] WARNING | bibtex had problems, most likely because there were no citations\n",
            "[NbConvertApp] PDF successfully created\n",
            "[NbConvertApp] Writing 2565737 bytes to DefectDetection.pdf\n"
          ]
        }
      ]
    }
  ],
  "metadata": {
    "kernelspec": {
      "display_name": "base",
      "language": "python",
      "name": "python3"
    },
    "language_info": {
      "codemirror_mode": {
        "name": "ipython",
        "version": 3
      },
      "file_extension": ".py",
      "mimetype": "text/x-python",
      "name": "python",
      "nbconvert_exporter": "python",
      "pygments_lexer": "ipython3",
      "version": "3.9.7"
    },
    "orig_nbformat": 4,
    "colab": {
      "provenance": []
    }
  },
  "nbformat": 4,
  "nbformat_minor": 0
}