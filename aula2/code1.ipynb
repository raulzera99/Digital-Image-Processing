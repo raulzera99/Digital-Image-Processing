{
 "cells": [
  {
   "cell_type": "code",
   "execution_count": 168,
   "metadata": {},
   "outputs": [],
   "source": [
    "import numpy as np\n",
    "import matplotlib.pyplot as plt\n",
    "from PIL import Image, ImageDraw, ImageFont"
   ]
  },
  {
   "cell_type": "code",
   "execution_count": 169,
   "metadata": {},
   "outputs": [
    {
     "name": "stdout",
     "output_type": "stream",
     "text": [
      "(100, 100)\n"
     ]
    },
    {
     "data": {
      "image/png": "[encoded data removed]",
      "text/plain": [
       "<Figure size 432x288 with 1 Axes>"
      ]
     },
     "metadata": {
      "needs_background": "light"
     },
     "output_type": "display_data"
    }
   ],
   "source": [
    "l = 100\n",
    "c = 100\n",
    "img = np.zeros([l,c])\n",
    "\n",
    "print(img.shape)\n",
    "#escrever um \"R\" na imagem por metodos de fatiamento de array\n",
    "img[5:95,20:25] = 255\n",
    "img[5:10, 20:80] = 255\n",
    "img[5:40, 75:80] = 255\n",
    "img[35:40, 20:80] = 255\n",
    "\n",
    "\n",
    "img[40:45, 25:30] = 255\n",
    "img[45:50, 30:35] = 255\n",
    "img[50:55, 35:40] = 255\n",
    "img[55:60, 40:45] = 255\n",
    "img[60:65, 45:50] = 255\n",
    "img[65:70, 50:55] = 255\n",
    "img[70:75, 55:60] = 255\n",
    "img[75:80, 60:65] = 255\n",
    "img[80:85, 65:70] = 255\n",
    "img[85:90, 70:75] = 255\n",
    "img[90:95, 75:80] = 255\n",
    "\n",
    "\n",
    "\n",
    "\n",
    "\n",
    "\n",
    "\n",
    "plt.imshow(img, cmap='gray')\n",
    "        \n",
    "plt.show()\n",
    "\n"
   ]
  },
  {
   "cell_type": "code",
   "execution_count": 170,
   "metadata": {},
   "outputs": [
    {
     "name": "stdout",
     "output_type": "stream",
     "text": [
      "(100, 100)\n"
     ]
    },
    {
     "data": {
      "image/png": "[encoded data removed]",
      "text/plain": [
       "<Figure size 432x288 with 1 Axes>"
      ]
     },
     "metadata": {
      "needs_background": "light"
     },
     "output_type": "display_data"
    }
   ],
   "source": [
    "l = 100\n",
    "c = 100\n",
    "img = np.zeros([l,c])\n",
    "\n",
    "print(img.shape)\n",
    "#escrever um \"P\" na imagem por metodos de fatiamento de array\n",
    "img[5:95,20:25] = 255\n",
    "img[5:10, 20:80] = 255\n",
    "img[5:40, 75:80] = 255\n",
    "img[35:40, 20:80] = 255\n",
    "\n",
    "\n",
    "\n",
    "plt.imshow(img, cmap='gray')\n",
    "        \n",
    "plt.show()\n"
   ]
  },
  {
   "cell_type": "code",
   "execution_count": 171,
   "metadata": {},
   "outputs": [
    {
     "name": "stdout",
     "output_type": "stream",
     "text": [
      "(100, 100)\n"
     ]
    },
    {
     "data": {
      "image/png": "[encoded data removed]",
      "text/plain": [
       "<Figure size 432x288 with 1 Axes>"
      ]
     },
     "metadata": {
      "needs_background": "light"
     },
     "output_type": "display_data"
    }
   ],
   "source": [
    "l = 100\n",
    "c = 100\n",
    "img = np.zeros([l,c])\n",
    "\n",
    "print(img.shape)\n",
    "#escrever um \"P\" na imagem por metodos de fatiamento de array\n",
    "img[5:95,20:25] = 255\n",
    "img[5:10, 20:70] = 255\n",
    "img[10:15, 70:75] = 255\n",
    "img[15:85, 75:80] = 255\n",
    "img[85:90,70:75] = 255\n",
    "img[90:95,20:70] = 255\n",
    "\n",
    "\n",
    "\n",
    "\n",
    "plt.imshow(img, cmap='gray')\n",
    "        \n",
    "plt.show()"
   ]
  },
  {
   "cell_type": "code",
   "execution_count": 182,
   "metadata": {},
   "outputs": [
    {
     "name": "stdout",
     "output_type": "stream",
     "text": [
      "(100, 300)\n"
     ]
    },
    {
     "data": {
      "image/png": "[encoded data removed]",
      "text/plain": [
       "<Figure size 432x288 with 1 Axes>"
      ]
     },
     "metadata": {
      "needs_background": "light"
     },
     "output_type": "display_data"
    }
   ],
   "source": [
    "l = 100\n",
    "c = 300\n",
    "img = np.zeros([l,c])\n",
    "print(img.shape)\n",
    "\n",
    "#juntar as 3 imagens em uma só\n",
    "#escrever um \"R\" na imagem por metodos de fatiamento de array\n",
    "img[5:95,20:25] = 255\n",
    "img[5:10, 20:80] = 255\n",
    "img[5:40, 75:80] = 255\n",
    "img[35:40, 20:80] = 255\n",
    "\n",
    "\n",
    "img[40:45, 25:30] = 255\n",
    "img[45:50, 30:35] = 255\n",
    "img[50:55, 35:40] = 255\n",
    "img[55:60, 40:45] = 255\n",
    "img[60:65, 45:50] = 255\n",
    "img[65:70, 50:55] = 255\n",
    "img[70:75, 55:60] = 255\n",
    "img[75:80, 60:65] = 255\n",
    "img[80:85, 65:70] = 255\n",
    "img[85:90, 70:75] = 255\n",
    "img[90:95, 75:80] = 255\n",
    "\n",
    "\n",
    "\n",
    "#escrever um \"P\" na imagem por metodos de fatiamento de array\n",
    "img[5:95,120:125] = 255\n",
    "img[5:10, 120:180] = 255\n",
    "img[5:40, 175:180] = 255\n",
    "img[35:40, 120:180] = 255\n",
    "\n",
    "\n",
    "\n",
    "#escrever um \"D\" na imagem por metodos de fatiamento de array\n",
    "img[5:95,220:225] = 255\n",
    "img[5:10, 220:270] = 255\n",
    "img[10:15, 270:275] = 255\n",
    "img[15:85, 275:280] = 255\n",
    "img[85:90,270:275] = 255\n",
    "img[90:95,220:270] = 255\n",
    "\n",
    "\n",
    "\n",
    "plt.imshow(img, cmap='gray')\n",
    "        \n",
    "plt.show()"
   ]
  }
 ],
 "metadata": {
  "kernelspec": {
   "display_name": "base",
   "language": "python",
   "name": "python3"
  },
  "language_info": {
   "codemirror_mode": {
    "name": "ipython",
    "version": 3
   },
   "file_extension": ".py",
   "mimetype": "text/x-python",
   "name": "python",
   "nbconvert_exporter": "python",
   "pygments_lexer": "ipython3",
   "version": "3.9.7"
  },
  "orig_nbformat": 4
 },
 "nbformat": 4,
 "nbformat_minor": 2
}
